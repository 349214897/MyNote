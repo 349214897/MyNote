{
 "cells": [
  {
   "cell_type": "code",
   "execution_count": 4,
   "metadata": {
    "collapsed": false
   },
   "outputs": [
    {
     "name": "stdout",
     "output_type": "stream",
     "text": [
      "D:\\MyGit\\HowtoUsegit\n"
     ]
    }
   ],
   "source": [
    "%cd D:/MyGit/HowtoUsegit/"
   ]
  },
  {
   "cell_type": "markdown",
   "metadata": {},
   "source": [
    "# first step creat local master\n",
    "1. load git bash\n",
    "2. use instruction git init then will appear .git\n",
    "3. git add file you think add it in origin(or use )\n",
    "4. git status show info has no commit to local master\n",
    "5. git commit to commit info to local master\n",
    "6. git commit -m \"s\" s is tell info  \n",
    "\n",
    "# second step creat repository\n",
    "1. register git account\n",
    "2. new repository(1.use web 2.use git remote add)\n",
    "  \n",
    "# third use ssh push origin\n",
    "1. use insruction ssh-keygen -t rsa -C \"email@qq.com\"\n",
    "2. land git web then get in settings then click SSH and GPG keys at the right of board\n",
    "3. copy the info of id_rsa.pub in text Editor SSH keys\n",
    "\n",
    "# forth push it in repository\n",
    "1. git push origin master"
   ]
  }
 ],
 "metadata": {
  "anaconda-cloud": {},
  "kernelspec": {
   "display_name": "Python [Root]",
   "language": "python",
   "name": "Python [Root]"
  },
  "language_info": {
   "codemirror_mode": {
    "name": "ipython",
    "version": 3
   },
   "file_extension": ".py",
   "mimetype": "text/x-python",
   "name": "python",
   "nbconvert_exporter": "python",
   "pygments_lexer": "ipython3",
   "version": "3.5.2"
  }
 },
 "nbformat": 4,
 "nbformat_minor": 0
}
