{
 "cells": [
  {
   "cell_type": "markdown",
   "metadata": {},
   "source": [
    "# first step creat local master\n",
    "1. load git bash\n",
    "2. use instruction git init then will appear .git\n",
    "3. git add file you think add it in origin(or use )\n",
    "4. git status show info has no commit to local master\n",
    "5. git commit to commit info to local master\n",
    "6. git commit -m \"s\" s is tell info\n",
    "# second step creat repository\n",
    "1. register git account\n",
    "2. new repository(1.use web 2.use git remote add)\n",
    "# third use ssh push origin\n",
    "1. use insruction ssh-keygen -t rsa -C \"email@qq.com\"\n",
    "2. land git web then get in settings then click SSH and GPG keys at the right of board\n",
    "3. copy the info of id_rsa.pub in text Editor SSH keys\n",
    "# forth push it in repository\n",
    "1. git push origin master"
   ]
  },
  {
   "cell_type": "code",
   "execution_count": null,
   "metadata": {
    "collapsed": true
   },
   "outputs": [],
   "source": []
  }
 ],
 "metadata": {
  "kernelspec": {
   "display_name": "Python [Root]",
   "language": "python",
   "name": "Python [Root]"
  },
  "language_info": {
   "codemirror_mode": {
    "name": "ipython",
    "version": 3
   },
   "file_extension": ".py",
   "mimetype": "text/x-python",
   "name": "python",
   "nbconvert_exporter": "python",
   "pygments_lexer": "ipython3",
   "version": "3.5.2"
  }
 },
 "nbformat": 4,
 "nbformat_minor": 0
}
